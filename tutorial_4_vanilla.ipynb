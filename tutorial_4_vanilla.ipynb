{
 "cells": [
  {
   "cell_type": "markdown",
   "metadata": {},
   "source": [
    "# Tutorial 4\n",
    "\n",
    "* Implementation of Backpropagation on toy example\n",
    "* Vanishing\\exploding gradients demonstration\n"
   ]
  },
  {
   "cell_type": "markdown",
   "metadata": {},
   "source": [
    "## Toy example \n",
    "\n",
    "In this example we will build and train a neural-net for binary classification using only basic tensor operations."
   ]
  },
  {
   "cell_type": "markdown",
   "metadata": {},
   "source": [
    "### Model Description:\n",
    "The network consists of 2 linear layers followed by a Sigmoid activation. The loss function is binary-cross-entropy.\n",
    "<a href=\"https://drive.google.com/uc?export=view&id=1Q8ucKs76yeiloZd-LgwNUw50BRJy2xSq\">\n",
    "    <img src=\"https://drive.google.com/uc?export=view&id=1Q8ucKs76yeiloZd-LgwNUw50BRJy2xSq\"\n",
    "    style=\"width: 400px; max-width: 100%; height: auto\"\n",
    "    title=\"Click for the larger version.\" />\n",
    "</a>\n",
    "\n"
   ]
  },
  {
   "cell_type": "markdown",
   "metadata": {},
   "source": [
    "$N = $ batch size <br>\n",
    "$X \\in \\mathbb{R}^{\\text{N} \\times 2}$\n",
    "\n",
    "$ W_1 \\in \\mathbb{R}^{2 \\times \\text{hidden}}$\n",
    "\n",
    "$ W_2 \\in \\mathbb{R}^{\\text{hidden} \\times 1}$\n",
    "\n",
    "\n",
    "$$L(y, \\hat{y}) = -\\frac{1}{N}\\sum_{i=0}^{N} y_i\\log(\\hat{y_i}) + (1-y_i)\\log(1-\\hat{y_i} )$$\n",
    "\n",
    "##### Forward pass:\n",
    "$Z_1 = XW_1 + b_1$ $ \\quad \\quad \\left[Z_1 \\in \\mathbb{R}^{\\text{N} \\times \\text{hidden}}\\right]$<br>\n",
    "$H = \\sigma(Z_1)$<br>\n",
    "$Z_2 = HW_2 + b_2 \\quad \\quad \\left[Z_2 \\in \\mathbb{R}^{\\text{N} \\times 1}\\right]$<br>\n",
    "$\\hat{Y} = \\sigma(Z_2)$<br>\n",
    "\n",
    "##### Backward pass:\n",
    "We are interested in $\\frac{\\partial L}{\\partial W_1}$, $\\frac{\\partial L}{\\partial b_1}$, $\\frac{\\partial L}{\\partial W_2}$ and $\\frac{\\partial L}{\\partial b_2}$\n",
    "\n",
    "---------\n",
    "$\\large \\frac{\\partial L}{\\partial W_1} = \\frac{\\partial L}{\\partial \\hat{Y}} \\frac{\\partial \\hat{Y}}{\\partial Z_2} \\frac{\\partial Z_2}{\\partial H} \\frac{\\partial H}{\\partial Z_1} \\frac{\\partial Z_1}{\\partial W_1}$\n",
    "\n",
    "$\\large \\frac{\\partial L}{\\partial b_1} = \\frac{\\partial L}{\\partial \\hat{Y}} \\frac{\\partial \\hat{Y}}{\\partial Z_2} \\frac{\\partial Z_2}{\\partial H} \\frac{\\partial H}{\\partial Z_1} \\frac{\\partial Z_1}{\\partial b_1}$\n",
    "\n",
    "$\\large \\frac{\\partial L}{\\partial W_2} = \\frac{\\partial L}{\\partial \\hat{Y}} \\frac{\\partial \\hat{Y}}{\\partial Z_2} \\frac{\\partial Z_2}{\\partial W_2}$\n",
    "\n",
    "$\\large \\frac{\\partial L}{\\partial b_2} = \\frac{\\partial L}{\\partial \\hat{Y}} \\frac{\\partial \\hat{Y}}{\\partial Z_2} \\frac{\\partial Z_2}{\\partial b_2}$\n",
    "\n",
    "---------\n",
    "\n",
    "\n",
    "$\\large \\frac{\\partial L}{\\partial \\hat{Y}} = -\\frac{1}{N}\\left(\\frac{Y}{\\hat{Y}}-\\frac{1-Y}{1-\\hat{Y}}\\right) = \\frac{1}{N}\\frac{\\hat{Y}-Y}{\\hat{Y}(1-\\hat{Y})}$ $\\quad \\quad \\left[\\frac{\\partial L}{\\partial \\hat{Y}} \\in \\mathbb{R}^{\\text{N} \\times 1}\\right] $\n",
    "\n",
    "$\\large \\frac{\\partial L}{\\partial Z_2} = \\frac{\\partial L}{\\partial \\hat{Y}}(\\sigma(Z_2)(1-\\sigma(Z_2)))$\n",
    "\n",
    "$\\large \\frac{\\partial L}{\\partial W_2} = H^T \\frac{\\partial L}{\\partial Z_2}$\n",
    "\n",
    "$\\large \\frac{\\partial L}{\\partial b_2} = (\\frac{\\partial L}{\\partial Z_2})^T1$\n",
    "\n",
    "$\\large \\frac{\\partial L}{\\partial H} = \\frac{\\partial L}{\\partial Z_2}W_2^T $\n",
    "\n",
    "$\\large \\frac{\\partial L}{\\partial Z_1} = \\frac{\\partial L}{\\partial H}(\\sigma(Z_1)(1-\\sigma(Z_1)))$\n",
    "\n",
    "$\\large \\frac{\\partial L}{\\partial W_1} = (\\frac{\\partial L}{\\partial Z_1})^TX$\n",
    "\n",
    "$\\large \\frac{\\partial L}{\\partial b_1} = (\\frac{\\partial L}{\\partial Z_1})^T1$"
   ]
  },
  {
   "cell_type": "code",
   "execution_count": 7,
   "metadata": {},
   "outputs": [],
   "source": [
    "import torch\n",
    "import torch.nn as nn\n",
    "from matplotlib import pyplot as plt  \n",
    "import math"
   ]
  },
  {
   "cell_type": "code",
   "execution_count": 3,
   "metadata": {},
   "outputs": [],
   "source": [
    "##### Utils functions \n",
    "def sigmoid(s):\n",
    "    return 1 / (1 + torch.exp(-s))\n",
    "\n",
    "def sigmoidPrime(s):\n",
    "    # derivative of sigmoid\n",
    "    # s: sigmoid output\n",
    "    return s * (1 - s)\n",
    "\n",
    "def tanh(t):\n",
    "    return torch.div(torch.exp(t) - torch.exp(-t), torch.exp(t) + torch.exp(-t))\n",
    "\n",
    "def tanhPrime(t):\n",
    "    # derivative of tanh\n",
    "    # t: tanh output\n",
    "    return 1 - t*t\n",
    "\n",
    "class Neural_Network:\n",
    "    def __init__(self, input_size=2, output_size=1, hidden_size=6):\n",
    "        # parameters\n",
    "        self.inputSize = input_size\n",
    "        self.outputSize = output_size\n",
    "        self.hiddenSize = hidden_size\n",
    "        \n",
    "        # weights\n",
    "        self.W1 = torch.randn(self.inputSize, self.hiddenSize)\n",
    "        self.b1 = torch.zeros(self.hiddenSize) \n",
    "        \n",
    "        self.W2 = torch.randn(self.hiddenSize, self.outputSize)\n",
    "        self.b2 = torch.zeros(self.outputSize)\n",
    "        \n",
    "    def forward(self, X):\n",
    "        self.z1 = torch.matmul(X, self.W1) + self.b1\n",
    "        self.h = tanh(self.z1) \n",
    "        self.z2 = torch.matmul(self.h, self.W2) + self.b2\n",
    "        return sigmoid(self.z2)\n",
    "\n",
    "    def backward(self, X, y, y_hat, lr=.1):\n",
    "        batch_size = y.size(0)\n",
    "        dl_dz2 = (1/batch_size)*(y_hat - y)  \n",
    "\n",
    "        dl_dh = torch.matmul(dl_dz2, torch.t(self.W2))\n",
    "        dl_dz1 = dl_dh * tanhPrime(self.h)\n",
    "        \n",
    "        self.W1 -= lr*torch.matmul(torch.t(X), dl_dz1)\n",
    "        self.b1 -= lr*torch.matmul(torch.t(dl_dz1), torch.ones(batch_size))\n",
    "        self.W2 -= lr*torch.matmul(torch.t(self.h), dl_dz2)\n",
    "        self.b2 -= lr*torch.matmul(torch.t(dl_dz2), torch.ones(batch_size))\n",
    "        \n",
    "    def train(self, X, y):\n",
    "        # forward + backward pass for training\n",
    "        o = self.forward(X)\n",
    "        self.backward(X, y, o)"
   ]
  },
  {
   "cell_type": "markdown",
   "metadata": {},
   "source": [
    "### Data\n",
    "\n",
    "Two toy nonlinear datasets for binary classification:\n",
    "\n",
    "1. Circles \n",
    "2. XOR"
   ]
  },
  {
   "cell_type": "code",
   "execution_count": 2,
   "metadata": {},
   "outputs": [
    {
     "ename": "NameError",
     "evalue": "name 'torch' is not defined",
     "output_type": "error",
     "traceback": [
      "\u001b[1;31m---------------------------------------------------------------------------\u001b[0m",
      "\u001b[1;31mNameError\u001b[0m                                 Traceback (most recent call last)",
      "\u001b[1;32m<ipython-input-2-624e31928b33>\u001b[0m in \u001b[0;36m<module>\u001b[1;34m\u001b[0m\n\u001b[0;32m     34\u001b[0m \u001b[0mN\u001b[0m \u001b[1;33m=\u001b[0m \u001b[1;36m3000\u001b[0m\u001b[1;33m\u001b[0m\u001b[1;33m\u001b[0m\u001b[0m\n\u001b[0;32m     35\u001b[0m \u001b[0mgenerate_dataset\u001b[0m \u001b[1;33m=\u001b[0m \u001b[0mgenerate_circles_dataset\u001b[0m\u001b[1;33m\u001b[0m\u001b[1;33m\u001b[0m\u001b[0m\n\u001b[1;32m---> 36\u001b[1;33m \u001b[0mX\u001b[0m\u001b[1;33m,\u001b[0m \u001b[0mY\u001b[0m \u001b[1;33m=\u001b[0m \u001b[0mgenerate_dataset\u001b[0m\u001b[1;33m(\u001b[0m\u001b[0mN\u001b[0m\u001b[1;33m)\u001b[0m\u001b[1;33m\u001b[0m\u001b[1;33m\u001b[0m\u001b[0m\n\u001b[0m\u001b[0;32m     37\u001b[0m \u001b[0mplt\u001b[0m\u001b[1;33m.\u001b[0m\u001b[0mfigure\u001b[0m\u001b[1;33m(\u001b[0m\u001b[0mfigsize\u001b[0m\u001b[1;33m=\u001b[0m\u001b[1;33m(\u001b[0m\u001b[1;36m8\u001b[0m\u001b[1;33m,\u001b[0m\u001b[1;36m8\u001b[0m\u001b[1;33m)\u001b[0m\u001b[1;33m)\u001b[0m\u001b[1;33m\u001b[0m\u001b[1;33m\u001b[0m\u001b[0m\n\u001b[0;32m     38\u001b[0m \u001b[1;33m\u001b[0m\u001b[0m\n",
      "\u001b[1;32m<ipython-input-2-624e31928b33>\u001b[0m in \u001b[0;36mgenerate_circles_dataset\u001b[1;34m(N)\u001b[0m\n\u001b[0;32m      2\u001b[0m     \u001b[1;31m# 1 class\u001b[0m\u001b[1;33m\u001b[0m\u001b[1;33m\u001b[0m\u001b[1;33m\u001b[0m\u001b[0m\n\u001b[0;32m      3\u001b[0m     \u001b[0mn\u001b[0m \u001b[1;33m=\u001b[0m \u001b[0mN\u001b[0m\u001b[1;33m//\u001b[0m\u001b[1;36m2\u001b[0m\u001b[1;33m\u001b[0m\u001b[1;33m\u001b[0m\u001b[0m\n\u001b[1;32m----> 4\u001b[1;33m     \u001b[0mr\u001b[0m \u001b[1;33m=\u001b[0m \u001b[0mtorch\u001b[0m\u001b[1;33m.\u001b[0m\u001b[0mempty\u001b[0m\u001b[1;33m(\u001b[0m\u001b[0mn\u001b[0m\u001b[1;33m)\u001b[0m\u001b[1;33m.\u001b[0m\u001b[0muniform_\u001b[0m\u001b[1;33m(\u001b[0m\u001b[1;36m0\u001b[0m\u001b[1;33m,\u001b[0m\u001b[1;36m0.5\u001b[0m\u001b[1;33m)\u001b[0m\u001b[1;33m\u001b[0m\u001b[1;33m\u001b[0m\u001b[0m\n\u001b[0m\u001b[0;32m      5\u001b[0m     \u001b[0mtheta\u001b[0m \u001b[1;33m=\u001b[0m \u001b[0mtorch\u001b[0m\u001b[1;33m.\u001b[0m\u001b[0mempty\u001b[0m\u001b[1;33m(\u001b[0m\u001b[0mn\u001b[0m\u001b[1;33m)\u001b[0m\u001b[1;33m.\u001b[0m\u001b[0muniform_\u001b[0m\u001b[1;33m(\u001b[0m\u001b[1;36m0\u001b[0m\u001b[1;33m,\u001b[0m\u001b[1;36m2\u001b[0m\u001b[1;33m*\u001b[0m\u001b[0mmath\u001b[0m\u001b[1;33m.\u001b[0m\u001b[0mpi\u001b[0m\u001b[1;33m)\u001b[0m\u001b[1;33m\u001b[0m\u001b[1;33m\u001b[0m\u001b[0m\n\u001b[0;32m      6\u001b[0m     \u001b[0mx1\u001b[0m \u001b[1;33m=\u001b[0m \u001b[0mr\u001b[0m\u001b[1;33m*\u001b[0m\u001b[0mtorch\u001b[0m\u001b[1;33m.\u001b[0m\u001b[0mcos\u001b[0m\u001b[1;33m(\u001b[0m\u001b[0mtheta\u001b[0m\u001b[1;33m)\u001b[0m\u001b[1;33m\u001b[0m\u001b[1;33m\u001b[0m\u001b[0m\n",
      "\u001b[1;31mNameError\u001b[0m: name 'torch' is not defined"
     ]
    }
   ],
   "source": [
    "\n",
    "\n",
    "def generate_circles_dataset(N):    \n",
    "    # 1 class\n",
    "    n = N//2\n",
    "    r = torch.empty(n).uniform_(0,0.5)\n",
    "    theta = torch.empty(n).uniform_(0,2*math.pi)\n",
    "    x1 = r*torch.cos(theta)\n",
    "    x2 = r*torch.sin(theta)\n",
    "    x_class_1 = torch.stack((x1,x2), dim=1)\n",
    "    y_class_1 = torch.ones(n)\n",
    "\n",
    "    # 0 class\n",
    "    r = torch.empty(n).uniform_(0.6,1.0)\n",
    "    theta = torch.empty(n).uniform_(0,2*math.pi)\n",
    "    x1 = r*torch.cos(theta)\n",
    "    x2 = r*torch.sin(theta)\n",
    "    x_class_0 = torch.stack((x1,x2), dim=1)\n",
    "    y_class_0 = torch.zeros(n)\n",
    "\n",
    "    X = torch.cat((x_class_1, x_class_0), dim=0)\n",
    "    Y = torch.cat((y_class_1, y_class_0), dim=0).unsqueeze(1)\n",
    "    return X, Y\n",
    "\n",
    "def generate_xor_dataset(N):    \n",
    "    # 1 class\n",
    "    X = torch.empty(N,2).uniform_(-1,1)\n",
    "    \n",
    "    def set_label(p):\n",
    "        return 0 if (p[0] > 0 and p[1] > 0) or (p[0] < 0 and p[1] < 0) else 1\n",
    "    \n",
    "    Y = torch.tensor([set_label(i) for i in X]).unsqueeze(1)\n",
    "\n",
    "    return X, Y\n",
    "\n",
    "N = 3000\n",
    "generate_dataset = generate_circles_dataset\n",
    "X, Y = generate_dataset(N)\n",
    "plt.figure(figsize=(8,8))\n",
    "\n",
    "y1 = (Y==1).view(-1)\n",
    "y0 = (Y==0).view(-1)\n",
    "plt.scatter(X[y1,0], X[y1,1], label='class 1')\n",
    "plt.scatter(X[y0,0], X[y0,1], label='class 0')\n",
    "plt.legend()\n",
    "plt.show()"
   ]
  },
  {
   "cell_type": "markdown",
   "metadata": {},
   "source": [
    "#### Dataset, DataLoader"
   ]
  },
  {
   "cell_type": "code",
   "execution_count": 5,
   "metadata": {},
   "outputs": [
    {
     "data": {
      "image/png": "[encoded data removed]",
      "text/plain": [
       "<Figure size 432x288 with 1 Axes>"
      ]
     },
     "metadata": {
      "needs_background": "light"
     },
     "output_type": "display_data"
    }
   ],
   "source": [
    "\n",
    "d = torch.utils.data.TensorDataset(X,Y)\n",
    "train_loader = torch.utils.data.DataLoader(dataset=d, \n",
    "                                           batch_size=100, \n",
    "                                           shuffle=True)\n",
    "\n",
    "\n",
    "x,y = iter(train_loader).next()\n",
    "y1 = (y==1).view(-1)\n",
    "y0 = (y==0).view(-1)\n",
    "plt.scatter(x[y1,0], x[y1,1])\n",
    "plt.scatter(x[y0,0], x[y0,1])\n",
    "plt.show()"
   ]
  },
  {
   "cell_type": "markdown",
   "metadata": {},
   "source": [
    "### Training"
   ]
  },
  {
   "cell_type": "code",
   "execution_count": 6,
   "metadata": {
    "scrolled": true
   },
   "outputs": [
    {
     "name": "stdout",
     "output_type": "stream",
     "text": [
      "#0, Loss: 0.8386861681938171\n",
      "#100, Loss: 0.07891729474067688\n",
      "#200, Loss: 0.052111998200416565\n",
      "#300, Loss: 0.04177406430244446\n",
      "#400, Loss: 0.034939974546432495\n",
      "#500, Loss: 0.02946542017161846\n",
      "#600, Loss: 0.024515490978956223\n",
      "#700, Loss: 0.020199984312057495\n",
      "#800, Loss: 0.01658220961689949\n",
      "#900, Loss: 0.013716057874262333\n"
     ]
    }
   ],
   "source": [
    "num_epochs = 1000\n",
    "NN = Neural_Network()\n",
    "for epoch in range(num_epochs):        \n",
    "    if epoch%100==0:\n",
    "        y_hat = NN.forward(X)\n",
    "        print (f\"#{epoch}, Loss: {- torch.mean(Y*torch.log(y_hat) + (1-Y)*torch.log(1 - y_hat)).detach().item()}\")  # mean sum squared loss\n",
    "        \n",
    "    for i,(x, y) in enumerate(train_loader):\n",
    "        NN.train(x, y)\n",
    "        "
   ]
  },
  {
   "cell_type": "markdown",
   "metadata": {},
   "source": [
    "### Testing"
   ]
  },
  {
   "cell_type": "code",
   "execution_count": 7,
   "metadata": {},
   "outputs": [
    {
     "data": {
      "image/png": "[encoded data removed]",
      "text/plain": [
       "<Figure size 432x288 with 1 Axes>"
      ]
     },
     "metadata": {
      "needs_background": "light"
     },
     "output_type": "display_data"
    }
   ],
   "source": [
    "X_test, Y_test = generate_dataset(2000)\n",
    "d = torch.utils.data.TensorDataset(X_test, Y_test)\n",
    "test_loader = torch.utils.data.DataLoader(dataset=d, \n",
    "                                           batch_size=100, \n",
    "                                           shuffle=True)\n",
    "\n",
    "x,y = iter(test_loader).next()\n",
    "\n",
    "y_hat = NN.forward(X_test).round()\n",
    "y1 = (y_hat==1).view(-1)\n",
    "y0 = (y_hat==0).view(-1)\n",
    "plt.scatter(X_test[y1,0], X_test[y1,1])\n",
    "plt.scatter(X_test[y0,0], X_test[y0,1])\n",
    "plt.show()"
   ]
  },
  {
   "cell_type": "markdown",
   "metadata": {},
   "source": [
    "----------------------------------------------------------------\n",
    "## Vanishing/Exploding Gradient\n",
    "\n",
    "#### Problem:\n",
    "As network goes deep, the gradients might become smaller and the weights are not being updated (no learning).\n",
    "\n",
    "#### Immediate solutions:\n",
    "1. Proper use of activation functions (try to avoid sigmoid)\n",
    "\n",
    "2. better weights initialization\n",
    "\n",
    "#### 1. Activations\n",
    "\n",
    "\n",
    "<a href=\"https://drive.google.com/uc?export=view&id=1wRuSvWozr6DhkYwltPlEc9LK4u5zOl5i\">\n",
    "    <img src=\"https://drive.google.com/uc?export=view&id=1wRuSvWozr6DhkYwltPlEc9LK4u5zOl5i\"\n",
    "    style=\"width: 600px; max-width: 100%; height: auto\"\n",
    "    title=\"Click for the larger version.\" />\n",
    "</a>\n",
    "<br>\n",
    "<br>\n",
    "<a href=\"https://drive.google.com/uc?export=view&id=1NqK5Xsf6W7Wkz-ucznYowEWE1ZRRmA-L\">\n",
    "    <img src=\"https://drive.google.com/uc?export=view&id=1NqK5Xsf6W7Wkz-ucznYowEWE1ZRRmA-L\"\n",
    "    style=\"width: 400px; max-width: 100%; height: auto\"\n",
    "    title=\"Click for the larger version.\" />\n",
    "</a>\n",
    "<br>\n",
    "<br>\n",
    "\n",
    "<a href=\"https://drive.google.com/uc?export=view&id=15wb9BaAgwNUBvQ7CiiDhSWwVDMVzwDAr\">\n",
    "    <img src=\"https://drive.google.com/uc?export=view&id=15wb9BaAgwNUBvQ7CiiDhSWwVDMVzwDAr\"\n",
    "    style=\"width: 600px; max-width: 100%; height: auto\"\n",
    "    title=\"Click for the larger version.\" />\n",
    "</a>\n",
    "\n",
    "<br>\n",
    "<br>\n",
    "<a href=\"https://drive.google.com/uc?export=view&id=1Bj-e7JCazO4O_qOK_5lRiXIun-MgEjPd\">\n",
    "    <img src=\"https://drive.google.com/uc?export=view&id=1Bj-e7JCazO4O_qOK_5lRiXIun-MgEjPd\"\n",
    "    style=\"width: 1000px; max-width: 100%; height: auto\"\n",
    "    title=\"Click for the larger version.\" />\n",
    "</a>\n",
    "\n"
   ]
  },
  {
   "cell_type": "code",
   "execution_count": 9,
   "metadata": {},
   "outputs": [],
   "source": [
    "import torchvision.datasets as dsets\n",
    "import torchvision.transforms as transforms\n",
    "# MNIST Dataset (Images and Labels)\n",
    "\n",
    "batch_size = 100\n",
    "transform = transforms.Compose([transforms.ToTensor()])\n",
    "\n",
    "train_dataset = dsets.MNIST(root='./data', \n",
    "                            train=True, \n",
    "                            transform=transform,\n",
    "                            download=True)\n",
    "\n",
    "test_dataset = dsets.MNIST(root='./data', \n",
    "                           train=False, \n",
    "                           transform=transform)\n",
    "\n",
    "# Dataset Loader (Input Pipline)\n",
    "train_loader = torch.utils.data.DataLoader(dataset=train_dataset, \n",
    "                                           batch_size=batch_size, \n",
    "                                           shuffle=True)\n",
    "\n",
    "test_loader = torch.utils.data.DataLoader(dataset=test_dataset, \n",
    "                                          batch_size=batch_size, \n",
    "                                          shuffle=False)"
   ]
  },
  {
   "cell_type": "code",
   "execution_count": 10,
   "metadata": {},
   "outputs": [],
   "source": [
    "import torch.nn as nn\n",
    "import numpy as np\n",
    "\n",
    "class NeuralNet(nn.Module):\n",
    "    \"\"\"Simple class for non-linear fully connect network\n",
    "    \"\"\"\n",
    "    def __init__(self, dims, act='ReLU'):\n",
    "        super(NeuralNet, self).__init__()\n",
    "        layers = []\n",
    "        for i in range(len(dims)-2):\n",
    "            in_dim = dims[i]\n",
    "            out_dim = dims[i+1]\n",
    "\n",
    "            layers.append(nn.Linear(in_dim, out_dim))\n",
    "            if ''!=act:\n",
    "                layers.append(getattr(nn, act)())\n",
    "\n",
    "        layers.append(nn.Linear(dims[-2], dims[-1]))\n",
    "        \n",
    "        self.main = nn.Sequential(*layers)        \n",
    "        #print(self.main)\n",
    "        \n",
    "    def forward(self, x):\n",
    "        return self.main(x)"
   ]
  },
  {
   "cell_type": "code",
   "execution_count": 14,
   "metadata": {},
   "outputs": [
    {
     "name": "stdout",
     "output_type": "stream",
     "text": [
      "--------  num hidden layers: 1  --------\n",
      "Sigmoid:\n",
      "loss: 2.3770885467529297\n",
      "loss: 2.0327706336975098\n",
      "loss: 1.6488415002822876\n",
      "loss: 1.490828037261963\n",
      "loss: 1.3431735038757324\n",
      "loss: 1.168116807937622\n",
      "relu:\n",
      "loss: 2.3042564392089844\n",
      "loss: 1.3107078075408936\n",
      "loss: 0.6465412974357605\n",
      "loss: 0.47838860750198364\n",
      "loss: 0.43777620792388916\n",
      "loss: 0.46565231680870056\n",
      "--------  num hidden layers: 2  --------\n",
      "Sigmoid:\n",
      "loss: 2.328247308731079\n",
      "loss: 2.2421908378601074\n",
      "loss: 2.129669427871704\n",
      "loss: 2.005331039428711\n",
      "loss: 1.8276069164276123\n",
      "loss: 1.6749930381774902\n",
      "relu:\n",
      "loss: 2.3082964420318604\n",
      "loss: 1.4635415077209473\n",
      "loss: 0.8200962543487549\n",
      "loss: 0.5759565830230713\n",
      "loss: 0.5381585359573364\n",
      "loss: 0.5580353736877441\n",
      "--------  num hidden layers: 3  --------\n",
      "Sigmoid:\n",
      "loss: 2.3740005493164062\n",
      "loss: 2.3078343868255615\n",
      "loss: 2.261384963989258\n",
      "loss: 2.18552827835083\n",
      "loss: 2.0496535301208496\n",
      "loss: 1.867072582244873\n",
      "relu:\n",
      "loss: 2.3260416984558105\n",
      "loss: 1.7739248275756836\n",
      "loss: 0.9274449348449707\n",
      "loss: 0.7092837691307068\n",
      "loss: 0.7724088430404663\n",
      "loss: 0.6704114675521851\n",
      "--------  num hidden layers: 4  --------\n",
      "Sigmoid:\n",
      "loss: 2.374239683151245\n",
      "loss: 2.300408124923706\n",
      "loss: 2.295128107070923\n",
      "loss: 2.2779109477996826\n",
      "loss: 2.1851701736450195\n",
      "loss: 2.0050621032714844\n",
      "relu:\n",
      "loss: 2.3479137420654297\n",
      "loss: 1.9306890964508057\n",
      "loss: 1.4997678995132446\n",
      "loss: 1.3085572719573975\n",
      "loss: 1.1300853490829468\n",
      "loss: 0.8870588541030884\n",
      "--------  num hidden layers: 5  --------\n",
      "Sigmoid:\n",
      "loss: 2.326724052429199\n",
      "loss: 2.298372268676758\n",
      "loss: 2.2976596355438232\n",
      "loss: 2.2975552082061768\n",
      "loss: 2.2827048301696777\n",
      "loss: 2.1547751426696777\n",
      "relu:\n",
      "loss: 2.3222267627716064\n",
      "loss: 1.9396640062332153\n",
      "loss: 1.5536707639694214\n",
      "loss: 1.3524137735366821\n",
      "loss: 1.3292956352233887\n",
      "loss: 1.1932929754257202\n",
      "--------  num hidden layers: 6  --------\n",
      "Sigmoid:\n",
      "loss: 2.3761351108551025\n",
      "loss: 2.310798406600952\n",
      "loss: 2.298980712890625\n",
      "loss: 2.295677900314331\n",
      "loss: 2.278738498687744\n",
      "loss: 2.1769800186157227\n",
      "relu:\n",
      "loss: 2.2864463329315186\n",
      "loss: 2.1073553562164307\n",
      "loss: 1.8565406799316406\n",
      "loss: 1.684676170349121\n",
      "loss: 1.6204348802566528\n",
      "loss: 1.3090448379516602\n",
      "--------  num hidden layers: 7  --------\n",
      "Sigmoid:\n",
      "loss: 2.4202113151550293\n",
      "loss: 2.3251230716705322\n",
      "loss: 2.3009443283081055\n",
      "loss: 2.2991013526916504\n",
      "loss: 2.3052124977111816\n",
      "loss: 2.284013271331787\n",
      "relu:\n",
      "loss: 2.31851863861084\n",
      "loss: 2.157447338104248\n",
      "loss: 1.6911473274230957\n",
      "loss: 1.3357055187225342\n",
      "loss: 1.2023124694824219\n",
      "loss: 1.2343087196350098\n"
     ]
    }
   ],
   "source": [
    "def train_k_deep_net(k, activation):\n",
    "\n",
    "    net = NeuralNet([28*28]+[10 for _ in range(k)] + [10], activation)\n",
    "    \n",
    "    torch.manual_seed(1)\n",
    "    optimizer = torch.optim.Adam(net.parameters(), lr=0.001)\n",
    "    second_layer_grads = []\n",
    "    for epoch in range(1):\n",
    "        for i,(x, y) in enumerate(train_loader):\n",
    "            out = net(x.view(-1,28*28))\n",
    "            loss = torch.nn.functional.cross_entropy(out, y)\n",
    "            optimizer.zero_grad()\n",
    "            loss.backward()\n",
    "            optimizer.step()\n",
    "            if i%100==0:\n",
    "                print(f'loss: {loss}')\n",
    "\n",
    "            \n",
    "            for j, p in enumerate(net.parameters()):\n",
    "                if j == 2:\n",
    "                    # return the norm of the gradient of the second layer\n",
    "                    second_layer_grads.append(p.grad.clone()) \n",
    "                    break\n",
    "\n",
    "\n",
    "    grads = torch.stack(second_layer_grads)\n",
    "    return grads.norm(1, dim=(1,2)).mean()\n",
    "\n",
    "\n",
    "\n",
    "\n",
    "norms_sigmoid = []\n",
    "norms_relu = []\n",
    "\n",
    "num_layers = list(range(1,8))\n",
    "for i in num_layers:\n",
    "    print(f'--------  num hidden layers: {i}  --------')\n",
    "    print('Sigmoid:')\n",
    "    norms_sigmoid.append(train_k_deep_net(i, 'Sigmoid'))\n",
    "    \n",
    "    print('relu:')\n",
    "    norms_relu.append(train_k_deep_net(i, 'ReLU'))\n",
    "\n",
    "\n"
   ]
  },
  {
   "cell_type": "code",
   "execution_count": 11,
   "metadata": {},
   "outputs": [
    {
     "data": {
      "image/png": "[encoded data removed]",
      "text/plain": [
       "<Figure size 864x576 with 1 Axes>"
      ]
     },
     "metadata": {
      "needs_background": "light"
     },
     "output_type": "display_data"
    }
   ],
   "source": [
    "plt.figure(figsize=(12,8))\n",
    "plt.plot(num_layers, norms_sigmoid, label=\"Sigmoid\", linewidth=3)\n",
    "plt.plot(num_layers, norms_relu,  label=\"ReLU\", linewidth=3)\n",
    "\n",
    "\n",
    "plt.legend(fontsize=16)\n",
    "plt.xlabel('num of layers', fontsize=18)\n",
    "plt.ylabel('grad norm', fontsize=16)\n",
    "plt.yscale(\"log\")"
   ]
  },
  {
   "cell_type": "markdown",
   "metadata": {},
   "source": [
    "#### 2. Weights initialization\n",
    "Here we compare two different weight initialization for a linear layer. \n",
    "\n",
    "$w_1 \\sim \\mathcal{U}(-1, 1)$ <br>\n",
    "$w_2 \\sim \\mathcal{U}(-\\sqrt{\\frac{1}{k}}, \\sqrt{\\frac{1}{k}})$, where $k$ is the number of input features.\n",
    "\n",
    "$w_2$ is the Pytorch default initialization and $w_1$ is a simple baseline."
   ]
  },
  {
   "cell_type": "code",
   "execution_count": 12,
   "metadata": {},
   "outputs": [
    {
     "data": {
      "text/plain": [
       "<matplotlib.collections.PathCollection at 0x128fbafd0>"
      ]
     },
     "execution_count": 12,
     "metadata": {},
     "output_type": "execute_result"
    },
    {
     "data": {
      "image/png": "[encoded data removed]",
      "text/plain": [
       "<Figure size 1080x432 with 2 Axes>"
      ]
     },
     "metadata": {
      "needs_background": "light"
     },
     "output_type": "display_data"
    }
   ],
   "source": [
    "batch = 40\n",
    "in_featurs = 20\n",
    "out_features = 10\n",
    "\n",
    "X = 2*torch.randn(batch,in_featurs)\n",
    "W1 = torch.empty(in_featurs,out_features).uniform_(-1,1)\n",
    "W2 = torch.empty(in_featurs,out_features).uniform_(-math.sqrt(1.0/in_featurs),math.sqrt(1.0/in_featurs))\n",
    "\n",
    "z1 = torch.matmul(X,W1).view(-1)\n",
    "z2 = torch.matmul(X,W2).view(-1)\n",
    "\n",
    "fig,(ax1, ax2) = plt.subplots(1,2, figsize=(15,6))\n",
    "\n",
    "s1 = sigmoid(z1)\n",
    "ax1.scatter(z1,s1, s=0.5)\n",
    "ax1.scatter(z1,sigmoidPrime(s1), s=0.5)\n",
    "\n",
    "s2 = sigmoid(z2)\n",
    "ax2.scatter(z2, s2, s=0.5)\n",
    "ax2.scatter(z2,sigmoidPrime(s2), s=0.5)"
   ]
  },
  {
   "cell_type": "code",
   "execution_count": null,
   "metadata": {},
   "outputs": [],
   "source": []
  }
 ],
 "metadata": {
  "kernelspec": {
   "display_name": "Python 3",
   "language": "python",
   "name": "python3"
  },
  "language_info": {
   "codemirror_mode": {
    "name": "ipython",
    "version": 3
   },
   "file_extension": ".py",
   "mimetype": "text/x-python",
   "name": "python",
   "nbconvert_exporter": "python",
   "pygments_lexer": "ipython3",
   "version": "3.8.3"
  }
 },
 "nbformat": 4,
 "nbformat_minor": 4
}
