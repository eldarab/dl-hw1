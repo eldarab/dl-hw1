{
 "cells": [
  {
   "cell_type": "code",
   "execution_count": 1,
   "metadata": {},
   "outputs": [],
   "source": [
    "import torch\n",
    "import torch.nn as nn\n",
    "import torch.nn.functional as F\n",
    "from sklearn.metrics import accuracy_score"
   ]
  },
  {
   "cell_type": "markdown",
   "metadata": {},
   "source": [
    "## Architecture"
   ]
  },
  {
   "cell_type": "code",
   "execution_count": 2,
   "metadata": {},
   "outputs": [],
   "source": [
    "in_dim = 784  # size of MNIST picture flattened (28x28)\n",
    "hid_dim = 32  # heuristic I found online\n",
    "out_dim = 10  # num classes"
   ]
  },
  {
   "cell_type": "markdown",
   "metadata": {},
   "source": [
    "## Data"
   ]
  },
  {
   "cell_type": "code",
   "execution_count": 3,
   "metadata": {},
   "outputs": [],
   "source": [
    "import torchvision.datasets as dsets\n",
    "import torchvision.transforms as transforms\n",
    "# MNIST Dataset (Images and Labels)\n",
    "\n",
    "batch_size = 100\n",
    "transform = transforms.Compose([transforms.ToTensor(), transforms.Lambda(lambda x: x.view(-1, 28*28))])\n",
    "\n",
    "train_dataset = dsets.MNIST(root='./data', \n",
    "                            train=True, \n",
    "                            transform=transform,\n",
    "                            download=True)\n",
    "\n",
    "test_dataset = dsets.MNIST(root='./data', \n",
    "                           train=False, \n",
    "                           transform=transform)\n",
    "\n",
    "# Dataset Loader (Input Pipline)\n",
    "train_loader = torch.utils.data.DataLoader(dataset=train_dataset, \n",
    "                                           batch_size=batch_size, \n",
    "                                           shuffle=True)\n",
    "\n",
    "test_loader = torch.utils.data.DataLoader(dataset=test_dataset, \n",
    "                                          batch_size=batch_size, \n",
    "                                          shuffle=False)"
   ]
  },
  {
   "cell_type": "markdown",
   "metadata": {},
   "source": [
    "## Model"
   ]
  },
  {
   "cell_type": "code",
   "execution_count": 11,
   "metadata": {},
   "outputs": [],
   "source": [
    "model = nn.Sequential(\n",
    "    nn.Linear(in_features=in_dim, out_features=hid_dim),\n",
    "    nn.Tanh(),\n",
    "    nn.Linear(in_features=hid_dim, out_features=out_dim),\n",
    "    nn.Tanh()\n",
    ")"
   ]
  },
  {
   "cell_type": "code",
   "execution_count": 12,
   "metadata": {},
   "outputs": [
    {
     "name": "stdout",
     "output_type": "stream",
     "text": [
      "train accuracy before training: 0.09123333333333335\n"
     ]
    }
   ],
   "source": [
    "model.eval()\n",
    "loss, accuracy = 0, 0\n",
    "for batch_idx, (x, y) in enumerate(train_loader):\n",
    "    out = model(x.view(-1,28*28))\n",
    "    accuracy += accuracy_score(y, out.argmax(1))\n",
    "    loss += torch.nn.functional.cross_entropy(out, y)\n",
    "print(f\"train accuracy before training: {accuracy / (batch_idx + 1)}\")"
   ]
  },
  {
   "cell_type": "code",
   "execution_count": 13,
   "metadata": {},
   "outputs": [
    {
     "name": "stdout",
     "output_type": "stream",
     "text": [
      "test accuracy before training: 0.0934\n"
     ]
    }
   ],
   "source": [
    "model.eval()\n",
    "loss, accuracy = 0, 0\n",
    "for batch_idx, (x, y) in enumerate(test_loader):\n",
    "    out = model(x.view(-1,28*28))\n",
    "    accuracy += accuracy_score(y, out.argmax(1))\n",
    "    loss += torch.nn.functional.cross_entropy(out, y)\n",
    "print(f\"test accuracy before training: {accuracy / (batch_idx + 1)}\")"
   ]
  },
  {
   "cell_type": "code",
   "execution_count": 14,
   "metadata": {},
   "outputs": [
    {
     "name": "stdout",
     "output_type": "stream",
     "text": [
      "batch_idx: 0.0\tloss: 2.3256664276123047\n",
      "batch_idx: 1.0\tloss: 2.3064935207366943\n",
      "batch_idx: 2.0\tloss: 2.2656240463256836\n",
      "batch_idx: 3.0\tloss: 2.2138123512268066\n",
      "batch_idx: 4.0\tloss: 2.184575080871582\n",
      "batch_idx: 5.0\tloss: 2.1931004524230957\n",
      ">>> epoch: 0\taccuracy: 0.21289999999999984\n",
      "batch_idx: 0.0\tloss: 2.134284257888794\n",
      "batch_idx: 1.0\tloss: 2.1154956817626953\n",
      "batch_idx: 2.0\tloss: 2.075517177581787\n",
      "batch_idx: 3.0\tloss: 2.0163118839263916\n",
      "batch_idx: 4.0\tloss: 2.0113887786865234\n",
      "batch_idx: 5.0\tloss: 2.0371410846710205\n",
      ">>> epoch: 1\taccuracy: 0.49443333333333345\n",
      "batch_idx: 0.0\tloss: 1.932498574256897\n",
      "batch_idx: 1.0\tloss: 1.9579144716262817\n",
      "batch_idx: 2.0\tloss: 1.9269061088562012\n",
      "batch_idx: 3.0\tloss: 1.9381718635559082\n",
      "batch_idx: 4.0\tloss: 1.9101680517196655\n",
      "batch_idx: 5.0\tloss: 1.8439178466796875\n",
      ">>> epoch: 2\taccuracy: 0.6044333333333329\n",
      "batch_idx: 0.0\tloss: 1.9040015935897827\n",
      "batch_idx: 1.0\tloss: 1.8938847780227661\n",
      "batch_idx: 2.0\tloss: 1.861075758934021\n",
      "batch_idx: 3.0\tloss: 1.8089780807495117\n",
      "batch_idx: 4.0\tloss: 1.8080918788909912\n",
      "batch_idx: 5.0\tloss: 1.7990756034851074\n",
      ">>> epoch: 3\taccuracy: 0.6485666666666671\n",
      "batch_idx: 0.0\tloss: 1.8303132057189941\n",
      "batch_idx: 1.0\tloss: 1.807934284210205\n",
      "batch_idx: 2.0\tloss: 1.8105288743972778\n",
      "batch_idx: 3.0\tloss: 1.7229032516479492\n",
      "batch_idx: 4.0\tloss: 1.7429473400115967\n",
      "batch_idx: 5.0\tloss: 1.6833903789520264\n",
      ">>> epoch: 4\taccuracy: 0.6806833333333345\n",
      "batch_idx: 0.0\tloss: 1.7572921514511108\n",
      "batch_idx: 1.0\tloss: 1.716048002243042\n",
      "batch_idx: 2.0\tloss: 1.7078114748001099\n",
      "batch_idx: 3.0\tloss: 1.7425345182418823\n",
      "batch_idx: 4.0\tloss: 1.6655901670455933\n",
      "batch_idx: 5.0\tloss: 1.7097300291061401\n",
      ">>> epoch: 5\taccuracy: 0.7068833333333335\n",
      "batch_idx: 0.0\tloss: 1.6274925470352173\n",
      "batch_idx: 1.0\tloss: 1.6690800189971924\n",
      "batch_idx: 2.0\tloss: 1.6528505086898804\n",
      "batch_idx: 3.0\tloss: 1.6678138971328735\n",
      "batch_idx: 4.0\tloss: 1.6097036600112915\n",
      "batch_idx: 5.0\tloss: 1.6331658363342285\n",
      ">>> epoch: 6\taccuracy: 0.730416666666666\n",
      "batch_idx: 0.0\tloss: 1.6229193210601807\n",
      "batch_idx: 1.0\tloss: 1.6313475370407104\n",
      "batch_idx: 2.0\tloss: 1.6093392372131348\n",
      "batch_idx: 3.0\tloss: 1.6136770248413086\n",
      "batch_idx: 4.0\tloss: 1.677778959274292\n",
      "batch_idx: 5.0\tloss: 1.5281879901885986\n",
      ">>> epoch: 7\taccuracy: 0.7524666666666672\n",
      "batch_idx: 0.0\tloss: 1.608228325843811\n",
      "batch_idx: 1.0\tloss: 1.5505828857421875\n",
      "batch_idx: 2.0\tloss: 1.5601354837417603\n",
      "batch_idx: 3.0\tloss: 1.5404314994812012\n",
      "batch_idx: 4.0\tloss: 1.5868029594421387\n",
      "batch_idx: 5.0\tloss: 1.6150588989257812\n",
      ">>> epoch: 8\taccuracy: 0.7713999999999995\n",
      "batch_idx: 0.0\tloss: 1.5595735311508179\n",
      "batch_idx: 1.0\tloss: 1.5451931953430176\n",
      "batch_idx: 2.0\tloss: 1.5299034118652344\n",
      "batch_idx: 3.0\tloss: 1.4856011867523193\n",
      "batch_idx: 4.0\tloss: 1.5278140306472778\n",
      "batch_idx: 5.0\tloss: 1.5165513753890991\n",
      ">>> epoch: 9\taccuracy: 0.7879333333333328\n"
     ]
    }
   ],
   "source": [
    "model.train()\n",
    "optimizer = torch.optim.SGD(model.parameters(), lr=0.001)\n",
    "for epoch in range(10):\n",
    "    epoch_accuracy = 0\n",
    "    for batch_idx, (x, y) in enumerate(train_loader):\n",
    "        out = model(x.view(-1,28*28))\n",
    "        argmax = out.argmax(1)\n",
    "        with torch.no_grad():\n",
    "            epoch_accuracy += accuracy_score(y, argmax)\n",
    "        loss = torch.nn.functional.cross_entropy(out, y)\n",
    "        optimizer.zero_grad()\n",
    "        loss.backward()\n",
    "        optimizer.step()\n",
    "        if batch_idx%100==0:\n",
    "            print(f'batch_idx: {batch_idx/100}\\tloss: {loss}')\n",
    "    print(f\">>> epoch: {epoch}\\taccuracy: {epoch_accuracy / (int(batch_idx) + 1)}\")"
   ]
  },
  {
   "cell_type": "code",
   "execution_count": 15,
   "metadata": {},
   "outputs": [
    {
     "name": "stdout",
     "output_type": "stream",
     "text": [
      "train accuracy after training: 0.7962333333333329\n"
     ]
    }
   ],
   "source": [
    "model.eval()\n",
    "loss, accuracy = 0, 0\n",
    "for batch_idx, (x, y) in enumerate(train_loader):\n",
    "    out = model(x.view(-1,28*28))\n",
    "    accuracy += accuracy_score(y, out.argmax(1))\n",
    "    loss += torch.nn.functional.cross_entropy(out, y)\n",
    "print(f\"train accuracy after training: {accuracy / (batch_idx + 1)}\")"
   ]
  },
  {
   "cell_type": "code",
   "execution_count": 16,
   "metadata": {},
   "outputs": [
    {
     "name": "stdout",
     "output_type": "stream",
     "text": [
      "test accuracy after training: 0.8038000000000004\n"
     ]
    }
   ],
   "source": [
    "loss, accuracy = 0, 0\n",
    "for batch_idx, (x, y) in enumerate(test_loader):\n",
    "    out = model(x.view(-1,28*28))\n",
    "    accuracy += accuracy_score(y, out.argmax(1))\n",
    "    loss += torch.nn.functional.cross_entropy(out, y)\n",
    "print(f\"test accuracy after training: {accuracy / (batch_idx + 1)}\")"
   ]
  }
 ],
 "metadata": {
  "kernelspec": {
   "display_name": "Python 3",
   "language": "python",
   "name": "python3"
  },
  "language_info": {
   "codemirror_mode": {
    "name": "ipython",
    "version": 3
   },
   "file_extension": ".py",
   "mimetype": "text/x-python",
   "name": "python",
   "nbconvert_exporter": "python",
   "pygments_lexer": "ipython3",
   "version": "3.8.3"
  }
 },
 "nbformat": 4,
 "nbformat_minor": 4
}
